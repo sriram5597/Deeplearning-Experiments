{
 "cells": [
  {
   "cell_type": "markdown",
   "metadata": {},
   "source": [
    "## Bot Vs Human Classification using L layer Feed Forward Network"
   ]
  },
  {
   "cell_type": "markdown",
   "metadata": {},
   "source": [
    "### Import"
   ]
  },
  {
   "cell_type": "code",
   "execution_count": 1,
   "metadata": {},
   "outputs": [
    {
     "name": "stdout",
     "output_type": "stream",
     "text": [
      "['/home/sriram/stacksville/repos/cari-seetha', '/home/sriram/stacksville/repos/cari-seetha/api', '/home/sriram/stacksville/repos/tcup-seetha', '/home/sriram/stacksville/repos/tcup-seetha/tcup', '/home/sriram/projects/deep_learning/user_vs_bot', '/usr/lib64/python312.zip', '/usr/lib64/python3.12', '/usr/lib64/python3.12/lib-dynload', '', '/home/sriram/projects/deep_learning/venv/lib64/python3.12/site-packages', '/home/sriram/projects/deep_learning/venv/lib/python3.12/site-packages', '/home/sriram/projects/deep_learning']\n"
     ]
    }
   ],
   "source": [
    "import numpy as np\n",
    "import pandas as pd\n",
    "import matplotlib.pyplot as plt\n",
    "\n",
    "\n",
    "import sys\n",
    "import os\n",
    "\n",
    "# Get the absolute path to the Shared folder\n",
    "shared_path = os.path.abspath('..')\n",
    "\n",
    "# Add to sys.path if not already there\n",
    "if shared_path not in sys.path:\n",
    "    sys.path.append(shared_path)\n",
    "print(sys.path)\n",
    "\n",
    "plt.style.use('ggplot')"
   ]
  },
  {
   "cell_type": "markdown",
   "metadata": {},
   "source": [
    "### Load Dataset"
   ]
  },
  {
   "cell_type": "code",
   "execution_count": 2,
   "metadata": {},
   "outputs": [
    {
     "data": {
      "text/html": [
       "<div>\n",
       "<style scoped>\n",
       "    .dataframe tbody tr th:only-of-type {\n",
       "        vertical-align: middle;\n",
       "    }\n",
       "\n",
       "    .dataframe tbody tr th {\n",
       "        vertical-align: top;\n",
       "    }\n",
       "\n",
       "    .dataframe thead th {\n",
       "        text-align: right;\n",
       "    }\n",
       "</style>\n",
       "<table border=\"1\" class=\"dataframe\">\n",
       "  <thead>\n",
       "    <tr style=\"text-align: right;\">\n",
       "      <th></th>\n",
       "      <th>has_domain</th>\n",
       "      <th>has_birth_date</th>\n",
       "      <th>has_photo</th>\n",
       "      <th>can_post_on_wall</th>\n",
       "      <th>can_send_message</th>\n",
       "      <th>has_website</th>\n",
       "      <th>gender</th>\n",
       "      <th>has_short_name</th>\n",
       "      <th>has_first_name</th>\n",
       "      <th>has_last_name</th>\n",
       "      <th>...</th>\n",
       "      <th>ads_ratio</th>\n",
       "      <th>avg_views</th>\n",
       "      <th>posting_frequency_days</th>\n",
       "      <th>phone_numbers_ratio</th>\n",
       "      <th>avg_text_uniqueness</th>\n",
       "      <th>city</th>\n",
       "      <th>has_occupation</th>\n",
       "      <th>occupation_type_university</th>\n",
       "      <th>occupation_type_work</th>\n",
       "      <th>has_personal_data</th>\n",
       "    </tr>\n",
       "  </thead>\n",
       "  <tbody>\n",
       "    <tr>\n",
       "      <th>0</th>\n",
       "      <td>1.0</td>\n",
       "      <td>1.0</td>\n",
       "      <td>0.0</td>\n",
       "      <td>0.0</td>\n",
       "      <td>0.0</td>\n",
       "      <td>0.0</td>\n",
       "      <td>1.0</td>\n",
       "      <td>1.0</td>\n",
       "      <td>1.0</td>\n",
       "      <td>1.0</td>\n",
       "      <td>...</td>\n",
       "      <td>NaN</td>\n",
       "      <td>NaN</td>\n",
       "      <td>NaN</td>\n",
       "      <td>NaN</td>\n",
       "      <td>NaN</td>\n",
       "      <td>Unknown</td>\n",
       "      <td>Unknown</td>\n",
       "      <td>Unknown</td>\n",
       "      <td>Unknown</td>\n",
       "      <td>Unknown</td>\n",
       "    </tr>\n",
       "    <tr>\n",
       "      <th>1</th>\n",
       "      <td>1.0</td>\n",
       "      <td>1.0</td>\n",
       "      <td>0.0</td>\n",
       "      <td>0.0</td>\n",
       "      <td>0.0</td>\n",
       "      <td>0.0</td>\n",
       "      <td>1.0</td>\n",
       "      <td>1.0</td>\n",
       "      <td>1.0</td>\n",
       "      <td>1.0</td>\n",
       "      <td>...</td>\n",
       "      <td>NaN</td>\n",
       "      <td>NaN</td>\n",
       "      <td>NaN</td>\n",
       "      <td>NaN</td>\n",
       "      <td>NaN</td>\n",
       "      <td>Unknown</td>\n",
       "      <td>Unknown</td>\n",
       "      <td>Unknown</td>\n",
       "      <td>Unknown</td>\n",
       "      <td>Unknown</td>\n",
       "    </tr>\n",
       "    <tr>\n",
       "      <th>2</th>\n",
       "      <td>1.0</td>\n",
       "      <td>1.0</td>\n",
       "      <td>0.0</td>\n",
       "      <td>0.0</td>\n",
       "      <td>0.0</td>\n",
       "      <td>0.0</td>\n",
       "      <td>1.0</td>\n",
       "      <td>1.0</td>\n",
       "      <td>1.0</td>\n",
       "      <td>1.0</td>\n",
       "      <td>...</td>\n",
       "      <td>NaN</td>\n",
       "      <td>NaN</td>\n",
       "      <td>NaN</td>\n",
       "      <td>NaN</td>\n",
       "      <td>NaN</td>\n",
       "      <td>Unknown</td>\n",
       "      <td>Unknown</td>\n",
       "      <td>Unknown</td>\n",
       "      <td>Unknown</td>\n",
       "      <td>Unknown</td>\n",
       "    </tr>\n",
       "    <tr>\n",
       "      <th>3</th>\n",
       "      <td>1.0</td>\n",
       "      <td>1.0</td>\n",
       "      <td>0.0</td>\n",
       "      <td>0.0</td>\n",
       "      <td>0.0</td>\n",
       "      <td>0.0</td>\n",
       "      <td>1.0</td>\n",
       "      <td>1.0</td>\n",
       "      <td>1.0</td>\n",
       "      <td>1.0</td>\n",
       "      <td>...</td>\n",
       "      <td>NaN</td>\n",
       "      <td>NaN</td>\n",
       "      <td>NaN</td>\n",
       "      <td>NaN</td>\n",
       "      <td>NaN</td>\n",
       "      <td>Unknown</td>\n",
       "      <td>Unknown</td>\n",
       "      <td>Unknown</td>\n",
       "      <td>Unknown</td>\n",
       "      <td>Unknown</td>\n",
       "    </tr>\n",
       "    <tr>\n",
       "      <th>4</th>\n",
       "      <td>1.0</td>\n",
       "      <td>1.0</td>\n",
       "      <td>0.0</td>\n",
       "      <td>0.0</td>\n",
       "      <td>0.0</td>\n",
       "      <td>0.0</td>\n",
       "      <td>1.0</td>\n",
       "      <td>1.0</td>\n",
       "      <td>1.0</td>\n",
       "      <td>1.0</td>\n",
       "      <td>...</td>\n",
       "      <td>NaN</td>\n",
       "      <td>NaN</td>\n",
       "      <td>NaN</td>\n",
       "      <td>NaN</td>\n",
       "      <td>NaN</td>\n",
       "      <td>Unknown</td>\n",
       "      <td>Unknown</td>\n",
       "      <td>Unknown</td>\n",
       "      <td>Unknown</td>\n",
       "      <td>Unknown</td>\n",
       "    </tr>\n",
       "  </tbody>\n",
       "</table>\n",
       "<p>5 rows × 60 columns</p>\n",
       "</div>"
      ],
      "text/plain": [
       "  has_domain has_birth_date has_photo can_post_on_wall can_send_message  \\\n",
       "0        1.0            1.0       0.0              0.0              0.0   \n",
       "1        1.0            1.0       0.0              0.0              0.0   \n",
       "2        1.0            1.0       0.0              0.0              0.0   \n",
       "3        1.0            1.0       0.0              0.0              0.0   \n",
       "4        1.0            1.0       0.0              0.0              0.0   \n",
       "\n",
       "  has_website gender has_short_name has_first_name has_last_name  ...  \\\n",
       "0         0.0    1.0            1.0            1.0           1.0  ...   \n",
       "1         0.0    1.0            1.0            1.0           1.0  ...   \n",
       "2         0.0    1.0            1.0            1.0           1.0  ...   \n",
       "3         0.0    1.0            1.0            1.0           1.0  ...   \n",
       "4         0.0    1.0            1.0            1.0           1.0  ...   \n",
       "\n",
       "  ads_ratio avg_views  posting_frequency_days phone_numbers_ratio  \\\n",
       "0       NaN       NaN                     NaN                 NaN   \n",
       "1       NaN       NaN                     NaN                 NaN   \n",
       "2       NaN       NaN                     NaN                 NaN   \n",
       "3       NaN       NaN                     NaN                 NaN   \n",
       "4       NaN       NaN                     NaN                 NaN   \n",
       "\n",
       "  avg_text_uniqueness     city has_occupation occupation_type_university  \\\n",
       "0                 NaN  Unknown        Unknown                    Unknown   \n",
       "1                 NaN  Unknown        Unknown                    Unknown   \n",
       "2                 NaN  Unknown        Unknown                    Unknown   \n",
       "3                 NaN  Unknown        Unknown                    Unknown   \n",
       "4                 NaN  Unknown        Unknown                    Unknown   \n",
       "\n",
       "  occupation_type_work has_personal_data  \n",
       "0              Unknown           Unknown  \n",
       "1              Unknown           Unknown  \n",
       "2              Unknown           Unknown  \n",
       "3              Unknown           Unknown  \n",
       "4              Unknown           Unknown  \n",
       "\n",
       "[5 rows x 60 columns]"
      ]
     },
     "execution_count": 2,
     "metadata": {},
     "output_type": "execute_result"
    }
   ],
   "source": [
    "df = pd.read_csv('bots_vs_users.csv')\n",
    "df.head()"
   ]
  },
  {
   "cell_type": "markdown",
   "metadata": {},
   "source": [
    "### Data Cleaning"
   ]
  },
  {
   "cell_type": "code",
   "execution_count": 3,
   "metadata": {},
   "outputs": [
    {
     "data": {
      "text/plain": [
       "posts_count               4483\n",
       "avg_likes                 4483\n",
       "links_ratio               4483\n",
       "hashtags_ratio            4483\n",
       "avg_keywords              4483\n",
       "avg_text_length           4483\n",
       "attachments_ratio         4483\n",
       "avg_comments              4483\n",
       "reposts_ratio             4483\n",
       "ads_ratio                 4483\n",
       "avg_views                 4483\n",
       "posting_frequency_days    4483\n",
       "phone_numbers_ratio       4483\n",
       "avg_text_uniqueness       4483\n",
       "dtype: int64"
      ]
     },
     "execution_count": 3,
     "metadata": {},
     "output_type": "execute_result"
    }
   ],
   "source": [
    "## Checking for NaNs\n",
    "\n",
    "cols = df.isna().sum()\n",
    "cols_with_nans = cols[cols > 0]\n",
    "cols_with_nans"
   ]
  },
  {
   "cell_type": "code",
   "execution_count": 4,
   "metadata": {},
   "outputs": [],
   "source": [
    "### Replacing NaN with 0\n",
    "df.fillna(0, inplace=True)"
   ]
  },
  {
   "cell_type": "code",
   "execution_count": 5,
   "metadata": {},
   "outputs": [
    {
     "data": {
      "text/html": [
       "<div>\n",
       "<style scoped>\n",
       "    .dataframe tbody tr th:only-of-type {\n",
       "        vertical-align: middle;\n",
       "    }\n",
       "\n",
       "    .dataframe tbody tr th {\n",
       "        vertical-align: top;\n",
       "    }\n",
       "\n",
       "    .dataframe thead th {\n",
       "        text-align: right;\n",
       "    }\n",
       "</style>\n",
       "<table border=\"1\" class=\"dataframe\">\n",
       "  <thead>\n",
       "    <tr style=\"text-align: right;\">\n",
       "      <th></th>\n",
       "      <th>posts_count</th>\n",
       "      <th>avg_likes</th>\n",
       "      <th>links_ratio</th>\n",
       "      <th>hashtags_ratio</th>\n",
       "      <th>avg_keywords</th>\n",
       "      <th>avg_text_length</th>\n",
       "      <th>attachments_ratio</th>\n",
       "      <th>avg_comments</th>\n",
       "      <th>reposts_ratio</th>\n",
       "      <th>ads_ratio</th>\n",
       "      <th>avg_views</th>\n",
       "      <th>posting_frequency_days</th>\n",
       "      <th>phone_numbers_ratio</th>\n",
       "      <th>avg_text_uniqueness</th>\n",
       "    </tr>\n",
       "  </thead>\n",
       "  <tbody>\n",
       "    <tr>\n",
       "      <th>count</th>\n",
       "      <td>5874.000000</td>\n",
       "      <td>5874.000000</td>\n",
       "      <td>5874.000000</td>\n",
       "      <td>5874.000000</td>\n",
       "      <td>5874.000000</td>\n",
       "      <td>5874.000000</td>\n",
       "      <td>5874.000000</td>\n",
       "      <td>5874.000000</td>\n",
       "      <td>5874.000000</td>\n",
       "      <td>5874.000000</td>\n",
       "      <td>5874.000000</td>\n",
       "      <td>5874.000000</td>\n",
       "      <td>5874.000000</td>\n",
       "      <td>5874.000000</td>\n",
       "    </tr>\n",
       "    <tr>\n",
       "      <th>mean</th>\n",
       "      <td>4.411474</td>\n",
       "      <td>4.630152</td>\n",
       "      <td>0.037051</td>\n",
       "      <td>0.034081</td>\n",
       "      <td>1.830669</td>\n",
       "      <td>129.000695</td>\n",
       "      <td>0.212165</td>\n",
       "      <td>0.144644</td>\n",
       "      <td>0.102688</td>\n",
       "      <td>0.000632</td>\n",
       "      <td>147.727986</td>\n",
       "      <td>15.707375</td>\n",
       "      <td>0.000134</td>\n",
       "      <td>0.158189</td>\n",
       "    </tr>\n",
       "    <tr>\n",
       "      <th>std</th>\n",
       "      <td>8.183516</td>\n",
       "      <td>22.038715</td>\n",
       "      <td>0.118964</td>\n",
       "      <td>0.109672</td>\n",
       "      <td>6.396108</td>\n",
       "      <td>430.827974</td>\n",
       "      <td>0.389802</td>\n",
       "      <td>1.225439</td>\n",
       "      <td>0.267299</td>\n",
       "      <td>0.016160</td>\n",
       "      <td>830.462351</td>\n",
       "      <td>80.493815</td>\n",
       "      <td>0.004650</td>\n",
       "      <td>0.305224</td>\n",
       "    </tr>\n",
       "    <tr>\n",
       "      <th>min</th>\n",
       "      <td>0.000000</td>\n",
       "      <td>0.000000</td>\n",
       "      <td>0.000000</td>\n",
       "      <td>0.000000</td>\n",
       "      <td>0.000000</td>\n",
       "      <td>0.000000</td>\n",
       "      <td>0.000000</td>\n",
       "      <td>0.000000</td>\n",
       "      <td>0.000000</td>\n",
       "      <td>0.000000</td>\n",
       "      <td>0.000000</td>\n",
       "      <td>0.000000</td>\n",
       "      <td>0.000000</td>\n",
       "      <td>0.000000</td>\n",
       "    </tr>\n",
       "    <tr>\n",
       "      <th>25%</th>\n",
       "      <td>0.000000</td>\n",
       "      <td>0.000000</td>\n",
       "      <td>0.000000</td>\n",
       "      <td>0.000000</td>\n",
       "      <td>0.000000</td>\n",
       "      <td>0.000000</td>\n",
       "      <td>0.000000</td>\n",
       "      <td>0.000000</td>\n",
       "      <td>0.000000</td>\n",
       "      <td>0.000000</td>\n",
       "      <td>0.000000</td>\n",
       "      <td>0.000000</td>\n",
       "      <td>0.000000</td>\n",
       "      <td>0.000000</td>\n",
       "    </tr>\n",
       "    <tr>\n",
       "      <th>50%</th>\n",
       "      <td>0.000000</td>\n",
       "      <td>0.000000</td>\n",
       "      <td>0.000000</td>\n",
       "      <td>0.000000</td>\n",
       "      <td>0.000000</td>\n",
       "      <td>0.000000</td>\n",
       "      <td>0.000000</td>\n",
       "      <td>0.000000</td>\n",
       "      <td>0.000000</td>\n",
       "      <td>0.000000</td>\n",
       "      <td>0.000000</td>\n",
       "      <td>0.000000</td>\n",
       "      <td>0.000000</td>\n",
       "      <td>0.000000</td>\n",
       "    </tr>\n",
       "    <tr>\n",
       "      <th>75%</th>\n",
       "      <td>0.000000</td>\n",
       "      <td>0.000000</td>\n",
       "      <td>0.000000</td>\n",
       "      <td>0.000000</td>\n",
       "      <td>0.000000</td>\n",
       "      <td>0.000000</td>\n",
       "      <td>0.000000</td>\n",
       "      <td>0.000000</td>\n",
       "      <td>0.000000</td>\n",
       "      <td>0.000000</td>\n",
       "      <td>0.000000</td>\n",
       "      <td>0.000000</td>\n",
       "      <td>0.000000</td>\n",
       "      <td>0.000000</td>\n",
       "    </tr>\n",
       "    <tr>\n",
       "      <th>max</th>\n",
       "      <td>20.000000</td>\n",
       "      <td>894.900000</td>\n",
       "      <td>1.000000</td>\n",
       "      <td>1.000000</td>\n",
       "      <td>61.600000</td>\n",
       "      <td>5841.250000</td>\n",
       "      <td>1.000000</td>\n",
       "      <td>64.050000</td>\n",
       "      <td>1.000000</td>\n",
       "      <td>0.950000</td>\n",
       "      <td>41415.700000</td>\n",
       "      <td>2866.590000</td>\n",
       "      <td>0.300000</td>\n",
       "      <td>1.000000</td>\n",
       "    </tr>\n",
       "  </tbody>\n",
       "</table>\n",
       "</div>"
      ],
      "text/plain": [
       "       posts_count    avg_likes  links_ratio  hashtags_ratio  avg_keywords  \\\n",
       "count  5874.000000  5874.000000  5874.000000     5874.000000   5874.000000   \n",
       "mean      4.411474     4.630152     0.037051        0.034081      1.830669   \n",
       "std       8.183516    22.038715     0.118964        0.109672      6.396108   \n",
       "min       0.000000     0.000000     0.000000        0.000000      0.000000   \n",
       "25%       0.000000     0.000000     0.000000        0.000000      0.000000   \n",
       "50%       0.000000     0.000000     0.000000        0.000000      0.000000   \n",
       "75%       0.000000     0.000000     0.000000        0.000000      0.000000   \n",
       "max      20.000000   894.900000     1.000000        1.000000     61.600000   \n",
       "\n",
       "       avg_text_length  attachments_ratio  avg_comments  reposts_ratio  \\\n",
       "count      5874.000000        5874.000000   5874.000000    5874.000000   \n",
       "mean        129.000695           0.212165      0.144644       0.102688   \n",
       "std         430.827974           0.389802      1.225439       0.267299   \n",
       "min           0.000000           0.000000      0.000000       0.000000   \n",
       "25%           0.000000           0.000000      0.000000       0.000000   \n",
       "50%           0.000000           0.000000      0.000000       0.000000   \n",
       "75%           0.000000           0.000000      0.000000       0.000000   \n",
       "max        5841.250000           1.000000     64.050000       1.000000   \n",
       "\n",
       "         ads_ratio     avg_views  posting_frequency_days  phone_numbers_ratio  \\\n",
       "count  5874.000000   5874.000000             5874.000000          5874.000000   \n",
       "mean      0.000632    147.727986               15.707375             0.000134   \n",
       "std       0.016160    830.462351               80.493815             0.004650   \n",
       "min       0.000000      0.000000                0.000000             0.000000   \n",
       "25%       0.000000      0.000000                0.000000             0.000000   \n",
       "50%       0.000000      0.000000                0.000000             0.000000   \n",
       "75%       0.000000      0.000000                0.000000             0.000000   \n",
       "max       0.950000  41415.700000             2866.590000             0.300000   \n",
       "\n",
       "       avg_text_uniqueness  \n",
       "count          5874.000000  \n",
       "mean              0.158189  \n",
       "std               0.305224  \n",
       "min               0.000000  \n",
       "25%               0.000000  \n",
       "50%               0.000000  \n",
       "75%               0.000000  \n",
       "max               1.000000  "
      ]
     },
     "execution_count": 5,
     "metadata": {},
     "output_type": "execute_result"
    }
   ],
   "source": [
    "df[cols_with_nans.index].describe()"
   ]
  },
  {
   "cell_type": "code",
   "execution_count": 6,
   "metadata": {},
   "outputs": [
    {
     "data": {
      "text/plain": [
       "(5874, 60)"
      ]
     },
     "execution_count": 6,
     "metadata": {},
     "output_type": "execute_result"
    }
   ],
   "source": [
    "df.shape"
   ]
  },
  {
   "cell_type": "code",
   "execution_count": 7,
   "metadata": {},
   "outputs": [
    {
     "data": {
      "text/plain": [
       "Index(['has_domain', 'has_birth_date', 'has_photo', 'can_post_on_wall',\n",
       "       'can_send_message', 'has_website', 'gender', 'has_short_name',\n",
       "       'has_first_name', 'has_last_name', 'access_to_closed_profile',\n",
       "       'is_profile_closed', 'target', 'has_nickname', 'has_maiden_name',\n",
       "       'has_mobile', 'all_posts_visible', 'audio_available', 'has_interests',\n",
       "       'has_books', 'has_tv', 'has_quotes', 'has_about', 'has_games',\n",
       "       'has_movies', 'has_activities', 'has_music', 'can_add_as_friend',\n",
       "       'can_invite_to_group', 'subscribers_count', 'is_blacklisted',\n",
       "       'has_career', 'has_military_service', 'has_hometown', 'marital_status',\n",
       "       'has_universities', 'has_schools', 'has_relatives', 'is_verified',\n",
       "       'is_confirmed', 'has_status', 'posts_count', 'avg_likes', 'links_ratio',\n",
       "       'hashtags_ratio', 'avg_keywords', 'avg_text_length',\n",
       "       'attachments_ratio', 'avg_comments', 'reposts_ratio', 'ads_ratio',\n",
       "       'avg_views', 'posting_frequency_days', 'phone_numbers_ratio',\n",
       "       'avg_text_uniqueness', 'city', 'has_occupation',\n",
       "       'occupation_type_university', 'occupation_type_work',\n",
       "       'has_personal_data'],\n",
       "      dtype='object')"
      ]
     },
     "execution_count": 7,
     "metadata": {},
     "output_type": "execute_result"
    }
   ],
   "source": [
    "df.columns"
   ]
  },
  {
   "cell_type": "code",
   "execution_count": 8,
   "metadata": {},
   "outputs": [
    {
     "data": {
      "text/plain": [
       "gender\n",
       "1.0        4512\n",
       "2.0        1306\n",
       "0.0          32\n",
       "Unknown      24\n",
       "Name: count, dtype: int64"
      ]
     },
     "execution_count": 8,
     "metadata": {},
     "output_type": "execute_result"
    }
   ],
   "source": [
    "df['gender'].value_counts()"
   ]
  },
  {
   "cell_type": "code",
   "execution_count": 9,
   "metadata": {},
   "outputs": [],
   "source": [
    "## Dropping city\n",
    "\n",
    "df=df.drop(columns=['city']).copy()"
   ]
  },
  {
   "cell_type": "code",
   "execution_count": 10,
   "metadata": {},
   "outputs": [
    {
     "data": {
      "text/html": [
       "<div>\n",
       "<style scoped>\n",
       "    .dataframe tbody tr th:only-of-type {\n",
       "        vertical-align: middle;\n",
       "    }\n",
       "\n",
       "    .dataframe tbody tr th {\n",
       "        vertical-align: top;\n",
       "    }\n",
       "\n",
       "    .dataframe thead th {\n",
       "        text-align: right;\n",
       "    }\n",
       "</style>\n",
       "<table border=\"1\" class=\"dataframe\">\n",
       "  <thead>\n",
       "    <tr style=\"text-align: right;\">\n",
       "      <th></th>\n",
       "      <th>has_domain</th>\n",
       "      <th>has_birth_date</th>\n",
       "      <th>has_photo</th>\n",
       "      <th>can_post_on_wall</th>\n",
       "      <th>can_send_message</th>\n",
       "      <th>has_website</th>\n",
       "      <th>gender</th>\n",
       "      <th>has_short_name</th>\n",
       "      <th>has_first_name</th>\n",
       "      <th>has_last_name</th>\n",
       "      <th>...</th>\n",
       "      <th>reposts_ratio</th>\n",
       "      <th>ads_ratio</th>\n",
       "      <th>avg_views</th>\n",
       "      <th>posting_frequency_days</th>\n",
       "      <th>phone_numbers_ratio</th>\n",
       "      <th>avg_text_uniqueness</th>\n",
       "      <th>has_occupation</th>\n",
       "      <th>occupation_type_university</th>\n",
       "      <th>occupation_type_work</th>\n",
       "      <th>has_personal_data</th>\n",
       "    </tr>\n",
       "  </thead>\n",
       "  <tbody>\n",
       "    <tr>\n",
       "      <th>0</th>\n",
       "      <td>1.0</td>\n",
       "      <td>1.0</td>\n",
       "      <td>0.0</td>\n",
       "      <td>0.0</td>\n",
       "      <td>0.0</td>\n",
       "      <td>0.0</td>\n",
       "      <td>1.0</td>\n",
       "      <td>1.0</td>\n",
       "      <td>1.0</td>\n",
       "      <td>1.0</td>\n",
       "      <td>...</td>\n",
       "      <td>0.0</td>\n",
       "      <td>0.0</td>\n",
       "      <td>0.0</td>\n",
       "      <td>0.0</td>\n",
       "      <td>0.0</td>\n",
       "      <td>0.0</td>\n",
       "      <td>-1</td>\n",
       "      <td>-1</td>\n",
       "      <td>-1</td>\n",
       "      <td>-1</td>\n",
       "    </tr>\n",
       "    <tr>\n",
       "      <th>1</th>\n",
       "      <td>1.0</td>\n",
       "      <td>1.0</td>\n",
       "      <td>0.0</td>\n",
       "      <td>0.0</td>\n",
       "      <td>0.0</td>\n",
       "      <td>0.0</td>\n",
       "      <td>1.0</td>\n",
       "      <td>1.0</td>\n",
       "      <td>1.0</td>\n",
       "      <td>1.0</td>\n",
       "      <td>...</td>\n",
       "      <td>0.0</td>\n",
       "      <td>0.0</td>\n",
       "      <td>0.0</td>\n",
       "      <td>0.0</td>\n",
       "      <td>0.0</td>\n",
       "      <td>0.0</td>\n",
       "      <td>-1</td>\n",
       "      <td>-1</td>\n",
       "      <td>-1</td>\n",
       "      <td>-1</td>\n",
       "    </tr>\n",
       "    <tr>\n",
       "      <th>2</th>\n",
       "      <td>1.0</td>\n",
       "      <td>1.0</td>\n",
       "      <td>0.0</td>\n",
       "      <td>0.0</td>\n",
       "      <td>0.0</td>\n",
       "      <td>0.0</td>\n",
       "      <td>1.0</td>\n",
       "      <td>1.0</td>\n",
       "      <td>1.0</td>\n",
       "      <td>1.0</td>\n",
       "      <td>...</td>\n",
       "      <td>0.0</td>\n",
       "      <td>0.0</td>\n",
       "      <td>0.0</td>\n",
       "      <td>0.0</td>\n",
       "      <td>0.0</td>\n",
       "      <td>0.0</td>\n",
       "      <td>-1</td>\n",
       "      <td>-1</td>\n",
       "      <td>-1</td>\n",
       "      <td>-1</td>\n",
       "    </tr>\n",
       "    <tr>\n",
       "      <th>3</th>\n",
       "      <td>1.0</td>\n",
       "      <td>1.0</td>\n",
       "      <td>0.0</td>\n",
       "      <td>0.0</td>\n",
       "      <td>0.0</td>\n",
       "      <td>0.0</td>\n",
       "      <td>1.0</td>\n",
       "      <td>1.0</td>\n",
       "      <td>1.0</td>\n",
       "      <td>1.0</td>\n",
       "      <td>...</td>\n",
       "      <td>0.0</td>\n",
       "      <td>0.0</td>\n",
       "      <td>0.0</td>\n",
       "      <td>0.0</td>\n",
       "      <td>0.0</td>\n",
       "      <td>0.0</td>\n",
       "      <td>-1</td>\n",
       "      <td>-1</td>\n",
       "      <td>-1</td>\n",
       "      <td>-1</td>\n",
       "    </tr>\n",
       "    <tr>\n",
       "      <th>4</th>\n",
       "      <td>1.0</td>\n",
       "      <td>1.0</td>\n",
       "      <td>0.0</td>\n",
       "      <td>0.0</td>\n",
       "      <td>0.0</td>\n",
       "      <td>0.0</td>\n",
       "      <td>1.0</td>\n",
       "      <td>1.0</td>\n",
       "      <td>1.0</td>\n",
       "      <td>1.0</td>\n",
       "      <td>...</td>\n",
       "      <td>0.0</td>\n",
       "      <td>0.0</td>\n",
       "      <td>0.0</td>\n",
       "      <td>0.0</td>\n",
       "      <td>0.0</td>\n",
       "      <td>0.0</td>\n",
       "      <td>-1</td>\n",
       "      <td>-1</td>\n",
       "      <td>-1</td>\n",
       "      <td>-1</td>\n",
       "    </tr>\n",
       "  </tbody>\n",
       "</table>\n",
       "<p>5 rows × 59 columns</p>\n",
       "</div>"
      ],
      "text/plain": [
       "  has_domain has_birth_date has_photo can_post_on_wall can_send_message  \\\n",
       "0        1.0            1.0       0.0              0.0              0.0   \n",
       "1        1.0            1.0       0.0              0.0              0.0   \n",
       "2        1.0            1.0       0.0              0.0              0.0   \n",
       "3        1.0            1.0       0.0              0.0              0.0   \n",
       "4        1.0            1.0       0.0              0.0              0.0   \n",
       "\n",
       "  has_website gender has_short_name has_first_name has_last_name  ...  \\\n",
       "0         0.0    1.0            1.0            1.0           1.0  ...   \n",
       "1         0.0    1.0            1.0            1.0           1.0  ...   \n",
       "2         0.0    1.0            1.0            1.0           1.0  ...   \n",
       "3         0.0    1.0            1.0            1.0           1.0  ...   \n",
       "4         0.0    1.0            1.0            1.0           1.0  ...   \n",
       "\n",
       "  reposts_ratio ads_ratio  avg_views posting_frequency_days  \\\n",
       "0           0.0       0.0        0.0                    0.0   \n",
       "1           0.0       0.0        0.0                    0.0   \n",
       "2           0.0       0.0        0.0                    0.0   \n",
       "3           0.0       0.0        0.0                    0.0   \n",
       "4           0.0       0.0        0.0                    0.0   \n",
       "\n",
       "  phone_numbers_ratio avg_text_uniqueness has_occupation  \\\n",
       "0                 0.0                 0.0             -1   \n",
       "1                 0.0                 0.0             -1   \n",
       "2                 0.0                 0.0             -1   \n",
       "3                 0.0                 0.0             -1   \n",
       "4                 0.0                 0.0             -1   \n",
       "\n",
       "  occupation_type_university occupation_type_work has_personal_data  \n",
       "0                         -1                   -1                -1  \n",
       "1                         -1                   -1                -1  \n",
       "2                         -1                   -1                -1  \n",
       "3                         -1                   -1                -1  \n",
       "4                         -1                   -1                -1  \n",
       "\n",
       "[5 rows x 59 columns]"
      ]
     },
     "execution_count": 10,
     "metadata": {},
     "output_type": "execute_result"
    }
   ],
   "source": [
    "df.replace('Unknown', -1, inplace=True)\n",
    "df.head()"
   ]
  },
  {
   "cell_type": "code",
   "execution_count": 11,
   "metadata": {},
   "outputs": [
    {
     "data": {
      "text/html": [
       "<div>\n",
       "<style scoped>\n",
       "    .dataframe tbody tr th:only-of-type {\n",
       "        vertical-align: middle;\n",
       "    }\n",
       "\n",
       "    .dataframe tbody tr th {\n",
       "        vertical-align: top;\n",
       "    }\n",
       "\n",
       "    .dataframe thead th {\n",
       "        text-align: right;\n",
       "    }\n",
       "</style>\n",
       "<table border=\"1\" class=\"dataframe\">\n",
       "  <thead>\n",
       "    <tr style=\"text-align: right;\">\n",
       "      <th></th>\n",
       "      <th>target</th>\n",
       "      <th>posts_count</th>\n",
       "      <th>avg_likes</th>\n",
       "      <th>links_ratio</th>\n",
       "      <th>hashtags_ratio</th>\n",
       "      <th>avg_keywords</th>\n",
       "      <th>avg_text_length</th>\n",
       "      <th>attachments_ratio</th>\n",
       "      <th>avg_comments</th>\n",
       "      <th>reposts_ratio</th>\n",
       "      <th>ads_ratio</th>\n",
       "      <th>avg_views</th>\n",
       "      <th>posting_frequency_days</th>\n",
       "      <th>phone_numbers_ratio</th>\n",
       "      <th>avg_text_uniqueness</th>\n",
       "    </tr>\n",
       "  </thead>\n",
       "  <tbody>\n",
       "    <tr>\n",
       "      <th>count</th>\n",
       "      <td>5874.000000</td>\n",
       "      <td>5874.000000</td>\n",
       "      <td>5874.000000</td>\n",
       "      <td>5874.000000</td>\n",
       "      <td>5874.000000</td>\n",
       "      <td>5874.000000</td>\n",
       "      <td>5874.000000</td>\n",
       "      <td>5874.000000</td>\n",
       "      <td>5874.000000</td>\n",
       "      <td>5874.000000</td>\n",
       "      <td>5874.000000</td>\n",
       "      <td>5874.000000</td>\n",
       "      <td>5874.000000</td>\n",
       "      <td>5874.000000</td>\n",
       "      <td>5874.000000</td>\n",
       "    </tr>\n",
       "    <tr>\n",
       "      <th>mean</th>\n",
       "      <td>0.500000</td>\n",
       "      <td>4.411474</td>\n",
       "      <td>4.630152</td>\n",
       "      <td>0.037051</td>\n",
       "      <td>0.034081</td>\n",
       "      <td>1.830669</td>\n",
       "      <td>129.000695</td>\n",
       "      <td>0.212165</td>\n",
       "      <td>0.144644</td>\n",
       "      <td>0.102688</td>\n",
       "      <td>0.000632</td>\n",
       "      <td>147.727986</td>\n",
       "      <td>15.707375</td>\n",
       "      <td>0.000134</td>\n",
       "      <td>0.158189</td>\n",
       "    </tr>\n",
       "    <tr>\n",
       "      <th>std</th>\n",
       "      <td>0.500043</td>\n",
       "      <td>8.183516</td>\n",
       "      <td>22.038715</td>\n",
       "      <td>0.118964</td>\n",
       "      <td>0.109672</td>\n",
       "      <td>6.396108</td>\n",
       "      <td>430.827974</td>\n",
       "      <td>0.389802</td>\n",
       "      <td>1.225439</td>\n",
       "      <td>0.267299</td>\n",
       "      <td>0.016160</td>\n",
       "      <td>830.462351</td>\n",
       "      <td>80.493815</td>\n",
       "      <td>0.004650</td>\n",
       "      <td>0.305224</td>\n",
       "    </tr>\n",
       "    <tr>\n",
       "      <th>min</th>\n",
       "      <td>0.000000</td>\n",
       "      <td>0.000000</td>\n",
       "      <td>0.000000</td>\n",
       "      <td>0.000000</td>\n",
       "      <td>0.000000</td>\n",
       "      <td>0.000000</td>\n",
       "      <td>0.000000</td>\n",
       "      <td>0.000000</td>\n",
       "      <td>0.000000</td>\n",
       "      <td>0.000000</td>\n",
       "      <td>0.000000</td>\n",
       "      <td>0.000000</td>\n",
       "      <td>0.000000</td>\n",
       "      <td>0.000000</td>\n",
       "      <td>0.000000</td>\n",
       "    </tr>\n",
       "    <tr>\n",
       "      <th>25%</th>\n",
       "      <td>0.000000</td>\n",
       "      <td>0.000000</td>\n",
       "      <td>0.000000</td>\n",
       "      <td>0.000000</td>\n",
       "      <td>0.000000</td>\n",
       "      <td>0.000000</td>\n",
       "      <td>0.000000</td>\n",
       "      <td>0.000000</td>\n",
       "      <td>0.000000</td>\n",
       "      <td>0.000000</td>\n",
       "      <td>0.000000</td>\n",
       "      <td>0.000000</td>\n",
       "      <td>0.000000</td>\n",
       "      <td>0.000000</td>\n",
       "      <td>0.000000</td>\n",
       "    </tr>\n",
       "    <tr>\n",
       "      <th>50%</th>\n",
       "      <td>0.500000</td>\n",
       "      <td>0.000000</td>\n",
       "      <td>0.000000</td>\n",
       "      <td>0.000000</td>\n",
       "      <td>0.000000</td>\n",
       "      <td>0.000000</td>\n",
       "      <td>0.000000</td>\n",
       "      <td>0.000000</td>\n",
       "      <td>0.000000</td>\n",
       "      <td>0.000000</td>\n",
       "      <td>0.000000</td>\n",
       "      <td>0.000000</td>\n",
       "      <td>0.000000</td>\n",
       "      <td>0.000000</td>\n",
       "      <td>0.000000</td>\n",
       "    </tr>\n",
       "    <tr>\n",
       "      <th>75%</th>\n",
       "      <td>1.000000</td>\n",
       "      <td>0.000000</td>\n",
       "      <td>0.000000</td>\n",
       "      <td>0.000000</td>\n",
       "      <td>0.000000</td>\n",
       "      <td>0.000000</td>\n",
       "      <td>0.000000</td>\n",
       "      <td>0.000000</td>\n",
       "      <td>0.000000</td>\n",
       "      <td>0.000000</td>\n",
       "      <td>0.000000</td>\n",
       "      <td>0.000000</td>\n",
       "      <td>0.000000</td>\n",
       "      <td>0.000000</td>\n",
       "      <td>0.000000</td>\n",
       "    </tr>\n",
       "    <tr>\n",
       "      <th>max</th>\n",
       "      <td>1.000000</td>\n",
       "      <td>20.000000</td>\n",
       "      <td>894.900000</td>\n",
       "      <td>1.000000</td>\n",
       "      <td>1.000000</td>\n",
       "      <td>61.600000</td>\n",
       "      <td>5841.250000</td>\n",
       "      <td>1.000000</td>\n",
       "      <td>64.050000</td>\n",
       "      <td>1.000000</td>\n",
       "      <td>0.950000</td>\n",
       "      <td>41415.700000</td>\n",
       "      <td>2866.590000</td>\n",
       "      <td>0.300000</td>\n",
       "      <td>1.000000</td>\n",
       "    </tr>\n",
       "  </tbody>\n",
       "</table>\n",
       "</div>"
      ],
      "text/plain": [
       "            target  posts_count    avg_likes  links_ratio  hashtags_ratio  \\\n",
       "count  5874.000000  5874.000000  5874.000000  5874.000000     5874.000000   \n",
       "mean      0.500000     4.411474     4.630152     0.037051        0.034081   \n",
       "std       0.500043     8.183516    22.038715     0.118964        0.109672   \n",
       "min       0.000000     0.000000     0.000000     0.000000        0.000000   \n",
       "25%       0.000000     0.000000     0.000000     0.000000        0.000000   \n",
       "50%       0.500000     0.000000     0.000000     0.000000        0.000000   \n",
       "75%       1.000000     0.000000     0.000000     0.000000        0.000000   \n",
       "max       1.000000    20.000000   894.900000     1.000000        1.000000   \n",
       "\n",
       "       avg_keywords  avg_text_length  attachments_ratio  avg_comments  \\\n",
       "count   5874.000000      5874.000000        5874.000000   5874.000000   \n",
       "mean       1.830669       129.000695           0.212165      0.144644   \n",
       "std        6.396108       430.827974           0.389802      1.225439   \n",
       "min        0.000000         0.000000           0.000000      0.000000   \n",
       "25%        0.000000         0.000000           0.000000      0.000000   \n",
       "50%        0.000000         0.000000           0.000000      0.000000   \n",
       "75%        0.000000         0.000000           0.000000      0.000000   \n",
       "max       61.600000      5841.250000           1.000000     64.050000   \n",
       "\n",
       "       reposts_ratio    ads_ratio     avg_views  posting_frequency_days  \\\n",
       "count    5874.000000  5874.000000   5874.000000             5874.000000   \n",
       "mean        0.102688     0.000632    147.727986               15.707375   \n",
       "std         0.267299     0.016160    830.462351               80.493815   \n",
       "min         0.000000     0.000000      0.000000                0.000000   \n",
       "25%         0.000000     0.000000      0.000000                0.000000   \n",
       "50%         0.000000     0.000000      0.000000                0.000000   \n",
       "75%         0.000000     0.000000      0.000000                0.000000   \n",
       "max         1.000000     0.950000  41415.700000             2866.590000   \n",
       "\n",
       "       phone_numbers_ratio  avg_text_uniqueness  \n",
       "count          5874.000000          5874.000000  \n",
       "mean              0.000134             0.158189  \n",
       "std               0.004650             0.305224  \n",
       "min               0.000000             0.000000  \n",
       "25%               0.000000             0.000000  \n",
       "50%               0.000000             0.000000  \n",
       "75%               0.000000             0.000000  \n",
       "max               0.300000             1.000000  "
      ]
     },
     "execution_count": 11,
     "metadata": {},
     "output_type": "execute_result"
    }
   ],
   "source": [
    "df.describe()"
   ]
  },
  {
   "cell_type": "code",
   "execution_count": 12,
   "metadata": {},
   "outputs": [
    {
     "data": {
      "text/plain": [
       "target\n",
       "1    2937\n",
       "0    2937\n",
       "Name: count, dtype: int64"
      ]
     },
     "execution_count": 12,
     "metadata": {},
     "output_type": "execute_result"
    }
   ],
   "source": [
    "## Checking target\n",
    "\n",
    "df['target'].value_counts()"
   ]
  },
  {
   "cell_type": "markdown",
   "metadata": {},
   "source": [
    "### Dataset Preparation"
   ]
  },
  {
   "cell_type": "code",
   "execution_count": 13,
   "metadata": {},
   "outputs": [
    {
     "data": {
      "text/plain": [
       "((5874, 58), (5874, 1))"
      ]
     },
     "execution_count": 13,
     "metadata": {},
     "output_type": "execute_result"
    }
   ],
   "source": [
    "dataset = df.drop(['target'], axis=1).to_numpy()\n",
    "target = df['target'].to_numpy().reshape(-1, 1)\n",
    "\n",
    "(dataset.shape, target.shape)"
   ]
  },
  {
   "cell_type": "code",
   "execution_count": 14,
   "metadata": {},
   "outputs": [
    {
     "data": {
      "text/plain": [
       "(5874, 58)"
      ]
     },
     "execution_count": 14,
     "metadata": {},
     "output_type": "execute_result"
    }
   ],
   "source": [
    "from core.normalizers import min_max_scaler\n",
    "\n",
    "dataset = min_max_scaler(dataset)\n",
    "dataset.shape"
   ]
  },
  {
   "cell_type": "code",
   "execution_count": 15,
   "metadata": {},
   "outputs": [
    {
     "name": "stdout",
     "output_type": "stream",
     "text": [
      "Train -> X - (58, 4405), Y - (1, 4405)\n",
      "Test -> X - (58, 1469), Y - (1, 1469)\n"
     ]
    }
   ],
   "source": [
    "from sklearn.model_selection import train_test_split\n",
    "\n",
    "X_train, X_test, Y_train, Y_test = train_test_split(dataset, target, test_size=0.25, random_state=42, stratify=target)\n",
    "\n",
    "X_train = X_train.T\n",
    "X_test = X_test.T\n",
    "Y_train = Y_train.T\n",
    "Y_test = Y_test.T\n",
    "print(f'Train -> X - {X_train.shape}, Y - {Y_train.shape}')\n",
    "print(f'Test -> X - {X_test.shape}, Y - {Y_test.shape}')"
   ]
  },
  {
   "cell_type": "code",
   "execution_count": 16,
   "metadata": {},
   "outputs": [
    {
     "data": {
      "text/plain": [
       "(array([0, 1]), array([735, 734]))"
      ]
     },
     "execution_count": 16,
     "metadata": {},
     "output_type": "execute_result"
    }
   ],
   "source": [
    "np.unique(Y_test, return_counts = True)"
   ]
  },
  {
   "cell_type": "markdown",
   "metadata": {},
   "source": [
    "## Training Neural Network"
   ]
  },
  {
   "cell_type": "code",
   "execution_count": 17,
   "metadata": {},
   "outputs": [
    {
     "name": "stdout",
     "output_type": "stream",
     "text": [
      "Layers:  4\n",
      "Layer Dims:  [58, 128, 64, 32, 1]\n"
     ]
    }
   ],
   "source": [
    "from core.fnn import FeedForwardNetwork\n",
    "\n",
    "L = 4\n",
    "layer_dims = [X_train.shape[0], 128, 64, 32, 1]\n",
    "activations = ['relu', 'relu', 'relu', 'sigmoid']\n",
    "nn = FeedForwardNetwork(L, layer_dims, activations)\n",
    "nn.info()"
   ]
  },
  {
   "cell_type": "code",
   "execution_count": 18,
   "metadata": {},
   "outputs": [
    {
     "name": "stdout",
     "output_type": "stream",
     "text": [
      "cost after 0 iterations:  0.6931475076240259\n",
      "cost after 100 iterations:  0.6931427956822848\n",
      "cost after 200 iterations:  0.6931382173828213\n",
      "cost after 300 iterations:  0.6931276285913369\n",
      "cost after 400 iterations:  0.6930933563674847\n",
      "cost after 500 iterations:  0.6928603673353586\n",
      "cost after 600 iterations:  0.26864452085285245\n",
      "cost after 700 iterations:  0.1408339079018908\n",
      "cost after 800 iterations:  0.12805332493958335\n",
      "cost after 900 iterations:  0.11582040569997375\n",
      "cost after 1000 iterations:  0.12000539450783347\n",
      "cost after 1100 iterations:  0.11552330474162532\n",
      "cost after 1200 iterations:  0.10428797526619049\n",
      "cost after 1300 iterations:  0.10285745580662761\n",
      "cost after 1400 iterations:  0.09872294164787179\n",
      "cost after 1500 iterations:  0.09768129049356969\n",
      "cost after 1600 iterations:  0.09623532081665098\n",
      "cost after 1700 iterations:  0.10239210877707038\n",
      "cost after 1800 iterations:  0.09323999559033924\n",
      "cost after 1900 iterations:  0.09518442560973844\n",
      "cost after 2000 iterations:  0.0931429154333309\n",
      "cost after 2100 iterations:  0.10369423674453582\n",
      "cost after 2200 iterations:  0.09626501241584129\n",
      "cost after 2300 iterations:  0.09092854311338436\n",
      "cost after 2400 iterations:  0.09321401365189826\n"
     ]
    },
    {
     "data": {
      "text/plain": [
       "np.float64(0.0890186792942627)"
      ]
     },
     "execution_count": 18,
     "metadata": {},
     "output_type": "execute_result"
    }
   ],
   "source": [
    "nn.train(X_train, Y_train, learning_rate=0.5, iterations=2500)"
   ]
  },
  {
   "cell_type": "code",
   "execution_count": 21,
   "metadata": {},
   "outputs": [
    {
     "name": "stdout",
     "output_type": "stream",
     "text": [
      "Accuracy (Fit):  97.27582292849036 %\n"
     ]
    }
   ],
   "source": [
    "output = nn.predict(X_train)\n",
    "predicted = np.where(output > 0.5, 1, 0)\n",
    "accuracy = np.mean(predicted == Y_train)\n",
    "print('Accuracy (Fit): ', accuracy * 100, '%')"
   ]
  },
  {
   "cell_type": "code",
   "execution_count": 22,
   "metadata": {},
   "outputs": [
    {
     "data": {
      "text/plain": [
       "array([[2148,   66],\n",
       "       [  54, 2137]])"
      ]
     },
     "execution_count": 22,
     "metadata": {},
     "output_type": "execute_result"
    }
   ],
   "source": [
    "from sklearn.metrics import confusion_matrix\n",
    "confusion_matrix(np.squeeze(predicted), np.squeeze(Y_train))"
   ]
  },
  {
   "cell_type": "markdown",
   "metadata": {},
   "source": [
    "#### Validation"
   ]
  },
  {
   "cell_type": "code",
   "execution_count": 23,
   "metadata": {},
   "outputs": [
    {
     "name": "stdout",
     "output_type": "stream",
     "text": [
      "Accuracy (Fit):  96.73247106875425 %\n"
     ]
    }
   ],
   "source": [
    "output = nn.predict(X_test)\n",
    "predicted = np.where(output > 0.5, 1, 0)\n",
    "accuracy = np.mean(predicted == Y_test)\n",
    "print('Accuracy (Fit): ', accuracy * 100, '%')"
   ]
  },
  {
   "cell_type": "code",
   "execution_count": 24,
   "metadata": {},
   "outputs": [
    {
     "data": {
      "text/plain": [
       "array([[716,  29],\n",
       "       [ 19, 705]])"
      ]
     },
     "execution_count": 24,
     "metadata": {},
     "output_type": "execute_result"
    }
   ],
   "source": [
    "from sklearn.metrics import confusion_matrix\n",
    "confusion_matrix(np.squeeze(predicted), np.squeeze(Y_test))"
   ]
  },
  {
   "cell_type": "code",
   "execution_count": null,
   "metadata": {},
   "outputs": [],
   "source": []
  }
 ],
 "metadata": {
  "kernelspec": {
   "display_name": "venv",
   "language": "python",
   "name": "python3"
  },
  "language_info": {
   "codemirror_mode": {
    "name": "ipython",
    "version": 3
   },
   "file_extension": ".py",
   "mimetype": "text/x-python",
   "name": "python",
   "nbconvert_exporter": "python",
   "pygments_lexer": "ipython3",
   "version": "3.12.7"
  }
 },
 "nbformat": 4,
 "nbformat_minor": 2
}
